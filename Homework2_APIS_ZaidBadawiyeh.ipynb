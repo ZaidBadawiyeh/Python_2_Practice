{
 "cells": [
  {
   "cell_type": "markdown",
   "metadata": {},
   "source": [
    "# Homework 2: APIs\n",
    "# Name: Zaid Badawiyeh"
   ]
  },
  {
   "cell_type": "markdown",
   "metadata": {},
   "source": [
    "#  Part I (20 points): Fun With Dictionaries"
   ]
  },
  {
   "cell_type": "code",
   "execution_count": 2,
   "metadata": {
    "ExecuteTime": {
     "end_time": "2023-02-05T23:50:58.929398Z",
     "start_time": "2023-02-05T23:50:58.921433Z"
    }
   },
   "outputs": [],
   "source": [
    "# here is a dictionary\n",
    "mountain_west = {'Colorado': {'Abbreviation': 'CO',\n",
    "                              'Area': 269601, # in square kilometers\n",
    "                              'Capital': 'Denver',\n",
    "                              'Established': '1876-08-01',\n",
    "                              'Largest city': 'Denver',\n",
    "                              'Population': 5540545,\n",
    "                              'Representatives': 7},\n",
    "                 'Idaho': {'Abbreviation': 'ID',\n",
    "                              'Area': 216443,\n",
    "                              'Capital': 'Boise',\n",
    "                              'Established': '1890-07-03',\n",
    "                              'Largest city': 'Boise',\n",
    "                              'Population': 1683140,\n",
    "                              'Representatives': 2},\n",
    "                 'Montana': {'Abbreviation': 'MT',\n",
    "                              'Area': 380831,\n",
    "                              'Capital': 'Helena',\n",
    "                              'Established': '1889-11-08',\n",
    "                              'Largest city': 'Billings',\n",
    "                              'Population': 1042520,\n",
    "                              'Representatives': 1},\n",
    "                 'Utah': {'Abbreviation': 'UT',\n",
    "                              'Area': 219882,\n",
    "                              'Capital': 'Salt Lake City',\n",
    "                              'Established': '1896-01-04',\n",
    "                              'Largest city': 'Salt Lake City',\n",
    "                              'Population': 3051217,\n",
    "                              'Representatives': 4},\n",
    "                 'Wyoming': {'Abbreviation': 'WY',\n",
    "                              'Area': 253335,\n",
    "                              'Capital': 'Cheyenne',\n",
    "                              'Established': '1890-07-10',\n",
    "                              'Largest city': 'Cheyenne',\n",
    "                              'Population': 585501,\n",
    "                              'Representatives': 1}}"
   ]
  },
  {
   "cell_type": "markdown",
   "metadata": {},
   "source": [
    "## Task 1: Iterate through the dictionary and print out the state names along with their abbreviation and population.\n",
    "Example: \n",
    "```\n",
    "Colorado (CO): 5540545  \n",
    "Idaho (ID): 1683140  \n",
    "```\n",
    "  \n",
    "et cetera  "
   ]
  },
  {
   "cell_type": "code",
   "execution_count": 26,
   "metadata": {},
   "outputs": [
    {
     "name": "stdout",
     "output_type": "stream",
     "text": [
      "Colorado (CO): 5540545\n",
      "Idaho (ID): 1683140\n",
      "Montana (MT): 1042520\n",
      "Utah (UT): 3051217\n",
      "Wyoming (WY): 585501\n"
     ]
    }
   ],
   "source": [
    "# for loop to iterate through the outermost dictionary and assign it variable \"item\"\n",
    "for item in mountain_west:\n",
    "    \n",
    "    #print statement of Abbreviation and Pop. key-word dictionary calls \n",
    "    #with concatenation for proper sentence formatting\n",
    "    print(item + \" \" + \"(\" + mountain_west[item][\"Abbreviation\"] + \"):\" + \n",
    "          \" \" + str(mountain_west[item][\"Population\"]) )"
   ]
  },
  {
   "cell_type": "markdown",
   "metadata": {},
   "source": [
    "## Task 2: Iterate through the dictionary and find the state with the greatest population and print that state's name and population."
   ]
  },
  {
   "cell_type": "code",
   "execution_count": 3,
   "metadata": {},
   "outputs": [
    {
     "name": "stdout",
     "output_type": "stream",
     "text": [
      "Colorado: 5540545\n"
     ]
    }
   ],
   "source": [
    "# temporary variable to store the population of each state as its iterating through\n",
    "pop = 0\n",
    "\n",
    "# for loop to iterate through the dictionary\n",
    "for item in mountain_west:\n",
    "    \n",
    "    # conditional checks if the population of each state is larger than \n",
    "    # what's currently stored in the temporary variable \"pop\" \n",
    "    if ((mountain_west[item][\"Population\"]) >= pop):\n",
    "        \n",
    "        # rewrites the temporary variable with the new, larger population if it passed the conditional\n",
    "        pop = mountain_west[item][\"Population\"]\n",
    "        \n",
    "        # stores the states name from the dictionary each time a larger population is \n",
    "        # found so that the state name matches the changing population during the for loop process\n",
    "        state = item\n",
    "        \n",
    "# Print + concat\n",
    "print(state + \": \" + str(pop))"
   ]
  },
  {
   "cell_type": "markdown",
   "metadata": {},
   "source": [
    "## Task 3: Iterate through the dictionary and add up the number of representatives in all of the states.  Print the answer using the following format:\n",
    "\n",
    "There are X representatives in the mountain west states."
   ]
  },
  {
   "cell_type": "code",
   "execution_count": 51,
   "metadata": {},
   "outputs": [
    {
     "name": "stdout",
     "output_type": "stream",
     "text": [
      "There are 15 representatives in the mountain west states\n"
     ]
    }
   ],
   "source": [
    "# initialize count variable to increment by number \n",
    "count = 0\n",
    "\n",
    "# for loop to iterate through outer key-words(states) in mountain_west dictionary\n",
    "for item in mountain_west:\n",
    "    \n",
    "    # increment count by the number of representitives present in each iteration of the loop\n",
    "    count += mountain_west[item][\"Representatives\"]\n",
    "    \n",
    "#print and concat for proper output formatting\n",
    "print(\"There are \" + str(count) + \" representatives in the mountain west states\")\n"
   ]
  },
  {
   "cell_type": "markdown",
   "metadata": {},
   "source": [
    "## Task 4: Iterate through the dictionary and calculate the population density for each state.  (The population density is the number of people per square kilometer.)  After doing this, you should report which state has the greatest population density and which state has the smallest population density.\n",
    "Example:  \n",
    "Colorado: 20.55 people per square km  \n",
    "Idaho: 7.78 people per square km  \n",
    "Montana: 2.74 people per square km  \n",
    "Utah: 13.88 people per square km  \n",
    "Wyoming: 2.31 people per square km  \n",
    "  \n",
    "Colorado has the largest population density.  \n",
    "Wyoming has the smallest population density.  "
   ]
  },
  {
   "cell_type": "code",
   "execution_count": 58,
   "metadata": {},
   "outputs": [
    {
     "name": "stdout",
     "output_type": "stream",
     "text": [
      "Colorado: 20.55 people per square km\n",
      "Idaho: 7.78 people per square km\n",
      "Montana: 2.74 people per square km\n",
      "Utah: 13.88 people per square km\n",
      "Wyoming: 2.31 people per square km\n",
      " \n",
      "Colorado has the largest population density.\n",
      "Wyoming has the smallest population density.\n"
     ]
    }
   ],
   "source": [
    "#temp variables store the highest and lowest populations\n",
    "population_high = 0\n",
    "population_low = 99999999999999999\n",
    "\n",
    "# for loop to iterate through the dictionary\n",
    "for item in mountain_west:\n",
    "    \n",
    "    # calculate the population density (population/ area) for each iteration of the loop\n",
    "    popDensity = (mountain_west[item][\"Population\"]) / (mountain_west[item][\"Area\"])\n",
    "    \n",
    "    # saves the state associated with each population density\n",
    "    state_dens = item\n",
    "    \n",
    "    # conditional to determine if the population of a state is larger than \n",
    "    # the population currently stored in the \"population_high\" temp variable \n",
    "    if ((mountain_west[item][\"Population\"]) >= population_high):\n",
    "        \n",
    "        # rewrites the temporary variable with the new, larger population if it passed the conditional\n",
    "        population_high = mountain_west[item][\"Population\"]\n",
    "        \n",
    "        # rewrites the states name from the dictionary each time a larger population is \n",
    "        # found so that the state name matches the changing population\n",
    "        state_high = item\n",
    "    \n",
    "    # conditional to determine if the population of a state is smaller than \n",
    "    # the population currently stored in the \"population_low\" temp variable \n",
    "    if ((mountain_west[item][\"Population\"]) <= population_low):\n",
    "        \n",
    "        # rewrites the temporary variable with the new, smaller population if it passed the conditional\n",
    "        population_low = mountain_west[item][\"Population\"]\n",
    "        \n",
    "        # rewrites the states name from the dictionary each time a smaller population is \n",
    "        # found so that the state name matches the changing population\n",
    "        state_low = item\n",
    "        \n",
    "        \n",
    "    #print the states and population density within the for loop so all states information is displayed\n",
    "    print(state_dens + \": \" + str(round(popDensity,2)) + \" people per square km\")\n",
    "#empty line for formatting\n",
    "print(\" \")\n",
    "#print the state with the largest population density\n",
    "print(state_high + \" has the largest population density.\")\n",
    "#print the state with the smallest population density\n",
    "print(state_low + \" has the smallest population density.\")\n",
    "        \n",
    "        \n",
    "\n",
    "\n"
   ]
  },
  {
   "cell_type": "code",
   "execution_count": 3,
   "metadata": {},
   "outputs": [
    {
     "data": {
      "text/plain": [
       "10.19"
      ]
     },
     "execution_count": 3,
     "metadata": {},
     "output_type": "execute_result"
    }
   ],
   "source": [
    "# Reminder: how do we round?\n",
    "myNumber = 10.191212\n",
    "round(myNumber,2)"
   ]
  },
  {
   "cell_type": "markdown",
   "metadata": {},
   "source": [
    "# Part II: API Exploration (80 points)\n",
    "\n",
    "### I’d like you to get some experience poking around an unfamiliar data source.  \n",
    "### Find a new API (one we haven’t used in class) and dig into it.  \n",
    "### Pull some data from it like we’ve been doing in our examples and present that data.  \n",
    "### I’ll allow you to scope this mini-project yourself, but at a minimum you should make a request to an API and then use data from that first request to make additional requests.  \n",
    "###  As an example of making requests using data from a previous request, we used the TV Maze \n",
    "### API shows search endpoint to get a list of shows that matched a search string.  \n",
    "### We then used the IDs of the shows to get a list of episodes for each show.  \n",
    "### We couldn't have gotten the list of episodes for the show without first getting the IDs in that first search query.\n",
    "\n",
    "### You should provide some explanation with what you’ve done and what the output means.  \n",
    "### (Nothing too fancy or formal, just some explanation as comments or markup in your Jupyter notebook.)  If you do some data exploration and calculate anything, you can provide  some hypotheses and commentary on whether or not your results line up with your expectations.  Have fun!\n",
    "\n",
    " \n",
    "### Note: The problem says *minimum*.  That means that the more you do on this one the better your grade.  If you do the minimum, expect an 80% on this problem.\n",
    "### That is, if you do the minimum perfectly.  If you have questions about the requirements of this assignment, you need to ask them before assignment is due, not after.\n",
    "\n"
   ]
  },
  {
   "cell_type": "code",
   "execution_count": null,
   "metadata": {},
   "outputs": [],
   "source": [
    "import requests\n",
    "rootURL = \"http://api.weatherapi.com/v1\"\n",
    "key = \"4a027572cf8c4a5994b215545231302\"\n",
    "#area = \"80134\"\n",
    "date = \"2023-04-01\" # between 14 and 300 days in the future\n",
    "\n",
    "\n",
    "def menu():\n",
    "    print(\"[1] Get Current Weather For Any Location\")\n",
    "    print(\"[2] Get A 14-Day Forecast\")\n",
    "    print(\"[3] Vacation Planner\")\n",
    "    print(\"[4] Exit The Program\")\n",
    "\n",
    "\n",
    "#currentWeather = requests.get(rootURL+\"/current.json?key=\"+key+\"&q=\"+area).json()\n",
    "#currentWeather\n",
    "\n",
    "\n",
    "    \n",
    "menu()\n",
    "option = input(\"What can we help you with today? \")\n",
    "\n",
    "while option != \"4\":\n",
    "    \n",
    "    if option == \"1\":\n",
    "        area = input(\"Enter a Zip Code, City Name, or Region \")\n",
    "        currentWeather = requests.get(rootURL+\"/current.json?key=\"+key+\"&q=\"+area.lower()).json()\n",
    "        type(currentWeather)\n",
    "        area_name = currentWeather['location']['name']\n",
    "        state_name = currentWeather['location']['region']\n",
    "        country_name = currentWeather['location']['country']\n",
    "        print(\" \")\n",
    "        print(\"The current temperature in \" + area_name + \", \" + state_name + \" (\" + country_name + \")\" + \" is \" + str(currentWeather['current']['temp_f']) + \" degrees fahrenheit\")\n",
    "    elif option == \"2\":\n",
    "        #14-Day Forecast\n",
    "        print(\"worked\")\n",
    "    elif option == \"3\":\n",
    "        #future = requests.get(rootURL+\"/future.json?key=\"+key+\"&q=\"+area+\"&dt=\"+date).json()\n",
    "        #future\n",
    "        print(\"worked\")\n",
    "    else:\n",
    "        print(\" \")\n",
    "        print(\"Not a valid option, please try again\")\n",
    "       \n",
    "    print(\" \")\n",
    "    print(\" \")\n",
    "    menu()\n",
    "    option = input(\"What can we help you with today? \")"
   ]
  },
  {
   "cell_type": "code",
   "execution_count": null,
   "metadata": {},
   "outputs": [],
   "source": []
  },
  {
   "cell_type": "code",
   "execution_count": null,
   "metadata": {},
   "outputs": [],
   "source": []
  },
  {
   "cell_type": "code",
   "execution_count": null,
   "metadata": {},
   "outputs": [],
   "source": []
  },
  {
   "cell_type": "code",
   "execution_count": null,
   "metadata": {},
   "outputs": [],
   "source": []
  },
  {
   "cell_type": "code",
   "execution_count": null,
   "metadata": {},
   "outputs": [],
   "source": []
  }
 ],
 "metadata": {
  "kernelspec": {
   "display_name": "Python 3 (ipykernel)",
   "language": "python",
   "name": "python3"
  },
  "language_info": {
   "codemirror_mode": {
    "name": "ipython",
    "version": 3
   },
   "file_extension": ".py",
   "mimetype": "text/x-python",
   "name": "python",
   "nbconvert_exporter": "python",
   "pygments_lexer": "ipython3",
   "version": "3.9.13"
  },
  "varInspector": {
   "cols": {
    "lenName": 16,
    "lenType": 16,
    "lenVar": 40
   },
   "kernels_config": {
    "python": {
     "delete_cmd_postfix": "",
     "delete_cmd_prefix": "del ",
     "library": "var_list.py",
     "varRefreshCmd": "print(var_dic_list())"
    },
    "r": {
     "delete_cmd_postfix": ") ",
     "delete_cmd_prefix": "rm(",
     "library": "var_list.r",
     "varRefreshCmd": "cat(var_dic_list()) "
    }
   },
   "types_to_exclude": [
    "module",
    "function",
    "builtin_function_or_method",
    "instance",
    "_Feature"
   ],
   "window_display": false
  }
 },
 "nbformat": 4,
 "nbformat_minor": 2
}
