{
 "cells": [
  {
   "cell_type": "markdown",
   "metadata": {},
   "source": [
    "# Problem 1: Rock-Paper-Scissors\n",
    "\n",
    "[Rock-Paper-Scissors](https://en.wikipedia.org/wiki/Rock%E2%80%93paper%E2%80%93scissors) is a classic children's game. Two players count down from 3 and simultaneously throw one of three shapes. Each round of the game has only three possible outcomes (summarized in the image below) as well as a tie.\n",
    "\n",
    "![Rock,Paper,Scissors](https://upload.wikimedia.org/wikipedia/commons/thumb/6/67/Rock-paper-scissors.svg/300px-Rock-paper-scissors.svg.png)\n",
    "\n",
    "Implement a `rps_scoring` function that:\n",
    "\n",
    "1. accepts two variables `player1` and `player2` as inputs\n",
    "2. the only input variables that should work are \"rock\", \"paper\", and \"scissors\n",
    "3. compares the two input variables to determine which player won (or if a tie occurs)\n",
    "4. returns a string saying which player won\n",
    "\n",
    "You'll need to use some combinations of [flow control](https://docs.python.org/3.5/tutorial/controlflow.html) statements; compare input strings to each other; and sanitize your function inputs to make sure they're well-behaved in case the user enters something out-of-scope."
   ]
  },
  {
   "cell_type": "code",
   "execution_count": 2,
   "metadata": {},
   "outputs": [],
   "source": [
    "def rps_scoring(player1, player2):\n",
    "# define three valid inputs in a list\n",
    "    valid_inputs = ['rock', 'paper', 'scissors']\n",
    "    \n",
    "    def gameplay():\n",
    "        # Tie cases (use .lower to maintain uniformity in input)\n",
    "        if player1.lower() == player2.lower():\n",
    "            print('Tie')\n",
    "        # cases where player 1 wins  (use .lower again to maintain uniformity) \n",
    "        elif (player1.lower() == 'rock' and player2.lower() == 'scissors') or (player1.lower() == 'scissors' and player2.lower() == 'paper') or (player1.lower() == 'paper' and player2.lower() == 'rock'):\n",
    "            print('Player 1 wins')\n",
    "        # cases where player 2 wins\n",
    "        else:\n",
    "            print('Player 2 wins')\n",
    "    \n",
    "    # check if both players inputs are correct using the valid_inputs list above\n",
    "    if player1.lower() in valid_inputs and player2.lower() in valid_inputs:\n",
    "        gameplay()\n",
    "    # if not, prompt to re-enter inputs\n",
    "    else:\n",
    "        print(\"Sorry, one of the users entered an invalid input. Please enter either 'rock', 'paper', or 'scissors'\")\n",
    "        #call rps_scoring function again(is this considered a recurssive function? maybe. I mean it does call itself)\n",
    "        rps_scoring(input('Player 1: '), input('Player 2: '))\n",
    "        "
   ]
  },
  {
   "cell_type": "markdown",
   "metadata": {},
   "source": [
    "Take it for a test spin. Your function should work without needing to change anything in the code block below."
   ]
  },
  {
   "cell_type": "code",
   "execution_count": null,
   "metadata": {},
   "outputs": [
    {
     "name": "stdout",
     "output_type": "stream",
     "text": [
      "Player 1's move: 7\n"
     ]
    }
   ],
   "source": [
    "player1 = input(\"Player 1's move: \")\n",
    "player2 = input(\"Player 2's move: \")\n",
    "rps_scoring(player1,player2)"
   ]
  },
  {
   "cell_type": "markdown",
   "metadata": {},
   "source": [
    "### Tests"
   ]
  },
  {
   "cell_type": "code",
   "execution_count": null,
   "metadata": {},
   "outputs": [],
   "source": [
    "rps_scoring(player1='scissors',player2='paper') # Player 1 should win"
   ]
  },
  {
   "cell_type": "code",
   "execution_count": null,
   "metadata": {},
   "outputs": [],
   "source": [
    "rps_scoring(player1='paper',player2='paper') # There should be a tie"
   ]
  },
  {
   "cell_type": "code",
   "execution_count": null,
   "metadata": {},
   "outputs": [],
   "source": [
    "rps_scoring(player1='lizard',player2='spock') # This shouldn't work"
   ]
  },
  {
   "cell_type": "code",
   "execution_count": null,
   "metadata": {},
   "outputs": [],
   "source": [
    "rps_scoring(player1='Rock',player2='PAPER') # Should this work?"
   ]
  },
  {
   "cell_type": "markdown",
   "metadata": {},
   "source": [
    "# Problem 2"
   ]
  },
  {
   "cell_type": "markdown",
   "metadata": {},
   "source": [
    "\n",
    "![caption](OFTFRFBF.JPG)\n"
   ]
  },
  {
   "cell_type": "markdown",
   "metadata": {},
   "source": [
    "(you'll need to download the file OFTFRFBF.jpg to see the image above)\n",
    "\n",
    "Dr. Seuss's \"[One Fish, Two Fish, Red Fish, Blue Fish](https://en.wikipedia.org/wiki/One_Fish_Two_Fish_Red_Fish_Blue_Fish)\" describes fish having various attributes."
   ]
  },
  {
   "cell_type": "raw",
   "metadata": {},
   "source": [
    "\"One fish, Two fish, Red fish, Blue fish,\n",
    "Black fish, Blue fish, Old fish, New fish.\n",
    "This one has a little car.\n",
    "This one has a little star.\n",
    "Say! What a lot of fish there are.\n",
    "Yes. Some are red, and some are blue.\n",
    "Some are old and some are new.\n",
    "Some are sad, and some are glad,\n",
    "And some are very, very bad.\n",
    "Why are they sad and glad and bad?\n",
    "I do not know, go ask your dad.\n",
    "Some are thin, and some are fat.\n",
    "The fat one has a yellow hat.\n",
    "From there to here,\n",
    "From here to there,\n",
    "Funny things are everywhere.\n",
    "Here are some who like to run.\n",
    "They run for fun in the hot, hot sun.\n",
    "Oh me! Oh my! Oh me! oh my!\n",
    "What a lot of funny things go by.\n",
    "Some have two feet and some have four.\n",
    "Some have six feet and some have more.\n",
    "Where do they come from? I can't say.\n",
    "But I bet they have come a long, long way.\n",
    "we see them come, we see them go.\n",
    "Some are fast. Some are slow.\n",
    "Some are high. Some are low.\n",
    "Not one of them is like another.\n",
    "Don't ask us why, go ask your mother.\""
   ]
  },
  {
   "cell_type": "markdown",
   "metadata": {},
   "source": [
    "Implement a `Fish` class that can accomodate all the possible Fish attributes described in the story with corresponding methods seen in the test cases below. \n",
    "\n",
    "You will need to define and code this `Fish` class yourself using the test cases below to guide you.  You can add more attributes and methods as you see fit, but at a minimum you need to handle all of the test cases below.  (But like before in Homework 2, doing the minimum doesn't guarantee you an A.) You can \"do more\" by adding properties and methods to the Fish class. If you do provide additional attributes and methods over and beyond those suggested by the test cases, provide your own test cases to show how your attributes and methods work.\n",
    "\n",
    "Here is some code to get you started:"
   ]
  },
  {
   "cell_type": "code",
   "execution_count": 2,
   "metadata": {},
   "outputs": [],
   "source": [
    "class Fish:\n",
    "    # define and initialize all the attributes necessary to tell Dr. Seuss's story. Use fa1se and none so that attributes are optional\n",
    "    def __init__(self, color=None, has_car=False, name=None, has_star=False, is_sad=False, is_glad=False, is_bad=False, is_thin=False, is_fat=False, has_hat=False, num_feet=0, like_to_run=False, is_fast=False, is_slow=False, is_old=False, is_new=False):\n",
    "        self.color = color\n",
    "        self.hasCar = has_car\n",
    "        self.name = name\n",
    "        self.has_star = has_star\n",
    "        self.is_sad = is_sad\n",
    "        self.is_glad = is_glad\n",
    "        self.is_bad = is_bad\n",
    "        self.is_thin = is_thin\n",
    "        self.is_fat = is_fat\n",
    "        self.has_hat = has_hat\n",
    "        self.num_feet = num_feet\n",
    "        self.like_to_run = like_to_run\n",
    "        self.is_fast = is_fast\n",
    "        self.is_slow = is_slow\n",
    "        self.is_old = is_old\n",
    "        self.is_new = is_new\n",
    "        \n",
    "    #setter and getter for color (use print for attributes that return text, use return for boolean)\n",
    "    def get_color(self):\n",
    "        print(\"Color: \" + self.color)\n",
    "    def set_color(self,color):\n",
    "        self.color = color\n",
    "    \n",
    "    #setter and getter for having a car (use str because boolean values can't be printed, only returned)\n",
    "    def get_hasCar(self):\n",
    "        print(\"Has a car: \" + str(self.hasCar))\n",
    "    def set_hasCar(self,hasCar):\n",
    "        self.hasCar = hasCar\n",
    "    \n",
    "    #setter and getter for fish name\n",
    "    def get_name(self):\n",
    "        print(\"Name: \" + self.name)\n",
    "    def set_name(self, name):\n",
    "        self.name = name\n",
    "    \n",
    "    #setter and getter for having a star\n",
    "    def get_has_star(self):\n",
    "        print(\"Has a star: \" + str(self.has_star))\n",
    "    def set_star(self, has_star):\n",
    "        self.has_star = has_star\n",
    "    \n",
    "    #setter and getter for if fish is sad\n",
    "    def get_is_sad(self):\n",
    "        print(\"Is sad: \" + str(self.is_sad))\n",
    "    def set_sad(self, is_sad):\n",
    "        self.is_sad = is_sad\n",
    "    \n",
    "    #setter and getter for if fish is glad\n",
    "    def get_is_glad(self):\n",
    "        print(\"Is glad: \" + str(self.is_glad))\n",
    "    def set_glad(self, is_glad):\n",
    "        self.is_glad = is_glad\n",
    "    \n",
    "    #setter and getter for if fish is bad\n",
    "    def get_is_bad(self):\n",
    "        print(\"Is bad: \" + str(self.is_bad))\n",
    "    def set_bad(self, is_bad):\n",
    "        self.is_bad = is_bad\n",
    "    \n",
    "    #setter and getter for if fish is thin\n",
    "    def get_is_thin(self):\n",
    "        print(\"Is thin: \" + str(self.is_thin))\n",
    "    def set_thin(self, is_thin):\n",
    "        self.is_thin = is_thin\n",
    "    \n",
    "    #setter and getter for if fish is fat\n",
    "    def get_is_fat(self):\n",
    "        print(\"Is fat: \" + str(self.is_fat))\n",
    "    def set_fat(self, is_fat):\n",
    "        self.is_fat = is_fat\n",
    "    \n",
    "    #setter and getter for if fish has a hat\n",
    "    def get_has_hat(self):\n",
    "        print(\"Has a hat: \" + str(self.has_hat))\n",
    "    def set_hat(self, has_hat):\n",
    "        self.has_hat = has_hat\n",
    "    \n",
    "    #setter and getter for the number of feet a fish has\n",
    "    def get_num_feet(self):\n",
    "        print(\"Number of feet: \" + self.num_feet)\n",
    "    def set_num_feet(self, num_feet):\n",
    "        self.num_feet = num_feet\n",
    "    \n",
    "    #setter and getter for if a fish likes to run\n",
    "    def set_like_to_run(self,like_to_run):\n",
    "        self.like_to_run = like_to_run\n",
    "    def get_like_to_run(self):\n",
    "        print(\"Likes to run: \" + str(self.like_to_run))\n",
    "   \n",
    "    #setter and getter for if the fish is fast\n",
    "    def set_is_fast(self, is_fast):\n",
    "        self.is_fast = is_fast\n",
    "    def get_is_fast(self):\n",
    "        print(\"Is fast: \" + str(self.is_fast))\n",
    "\n",
    "    #setter and getter for if fish is slow\n",
    "    def set_is_slow(self, is_slow):\n",
    "        self.is_slow = is_slow\n",
    "    def get_is_slow(self):\n",
    "        print(\"Is slow: \" + str(self.is_slow))\n",
    "        \n",
    "    #setter and getter for if fish is old\n",
    "    def set_is_old(self, is_old):\n",
    "        self.is_old = is_old\n",
    "    def get_is_old(self):\n",
    "        print(\"Is old: \" + str(self.is_old))\n",
    "    \n",
    "    #setter and getter for if fish is new\n",
    "    def set_is_new(self, is_new):\n",
    "        self.is_new = is_new\n",
    "    def get_is_new(self):\n",
    "        print(\"Is new: \" + str(self.is_new))\n"
   ]
  },
  {
   "cell_type": "markdown",
   "metadata": {},
   "source": [
    "### Some Tests"
   ]
  },
  {
   "cell_type": "code",
   "execution_count": 3,
   "metadata": {},
   "outputs": [],
   "source": [
    "# Create at least 6 Fish objects: fish1, ... , fish6 with different attributes matching the story\n",
    "# hint: there aren't \"exact\" answers.  just use information from the story and be consistent.\n",
    "\n",
    "#---------------------------------------------------------------------------------------------------\n",
    "#all attributes are optional(have a none,false,or 0 as their default values) \n",
    "#I am aware that if I don't define a particular attribute it will retain the default value, \n",
    "#however i defined all of them regardless of this\n",
    "\n",
    "#I defined 16 attributes in total, I believe that covers every description within the poem;\n",
    "#however, not all fish are exactly as the poem says\n",
    "#---------------------------------------------------------------------------------------------------\n",
    "\n",
    "#Define fish 1 attributes (do this one by directly calling fish class)\n",
    "fish1=Fish(\"Red\",False,\"Fish 1/Joe\",False,False,True,True,False,True,False,\"2\",True,True,False,True,False)\n",
    "\n",
    "#Define fish 2 attributes (Start by directly editing fish class, then use setters to indicate additional values)\n",
    "fish2=Fish(\"Blue\",True)\n",
    "fish2.set_name(\"Fish2/Bob\")\n",
    "fish2.set_star(False)\n",
    "fish2.set_sad(True)\n",
    "fish2.set_glad(False)\n",
    "fish2.set_bad(True)\n",
    "fish2.set_thin(True)\n",
    "fish2.set_fat(False)\n",
    "fish2.set_hat(True)\n",
    "fish2.set_num_feet(\"5\")\n",
    "fish2.set_like_to_run(False)\n",
    "fish2.set_is_fast(False)\n",
    "fish2.set_is_slow(True)\n",
    "fish2.set_is_old(False)\n",
    "fish2.set_is_new(True)\n",
    "\n",
    "#Define fish3 attributes (I used setters above for fish2 but it was really tedious so im just going to directly \n",
    "#edit the class from this point on) \n",
    "fish3=Fish(\"Black\",False,\"Fish 3/Sarah\",True,True,False,False,True,False,True,\"1\",False,False,True,False,True)\n",
    "\n",
    "#Define fish4\n",
    "fish4=Fish(\"Yellow\",True,\"Fish 4/Dr. Zietz\",True,False,True,False,True,False,False,\"2\",True,True,False,False,True)\n",
    "\n",
    "#Define fish5 (fine, i'll use setters just one more time so i don't get in trouble...i'm not gonna enjoy it though)\n",
    "fish5=Fish(\"Blue\",False)\n",
    "fish5.set_name(\"Fish5/TA Jay\")\n",
    "fish5.set_star(True)\n",
    "fish5.set_sad(False)\n",
    "fish5.set_glad(True)\n",
    "fish5.set_bad(True)\n",
    "fish5.set_thin(True)\n",
    "fish5.set_fat(False)\n",
    "fish5.set_hat(False)\n",
    "fish5.set_num_feet(\"7\")\n",
    "fish5.set_like_to_run(False)\n",
    "fish5.set_is_fast(True)\n",
    "fish5.set_is_slow(False)\n",
    "fish5.set_is_old(False)\n",
    "fish5.set_is_new(True)\n",
    "\n",
    "#Define fish6 (Back to directly editing class here)\n",
    "fish6=Fish(\"Red\",True,\"Fish 6/Dr. Phil\",False,True,False,True,False,True,False,\"1\",False,False,True,True,False)\n",
    "\n",
    "\n",
    "#Define fish7 (because why not. 6 fish will get lonely, but 7...complete different ballgame)\n",
    "fish7=Fish(\"Lavender with teal stripes\",False,\"Fish 7/Tupac\",True,False,True,True,True,False,True,\"0\",True,True,False,True,False)\n",
    "\n",
    "#------------------------------------------------------------------------------------------------------------\n",
    "# Put all of your fish in an aquarium (make it a list) and call it allFishList\n",
    "#------------------------------------------------------------------------------------------------------------\n",
    "\n",
    "allFishList=[fish1,fish2,fish3,fish4,fish5,fish6,fish7]\n"
   ]
  },
  {
   "cell_type": "code",
   "execution_count": 4,
   "metadata": {},
   "outputs": [
    {
     "name": "stdout",
     "output_type": "stream",
     "text": [
      "Color: Red\n"
     ]
    }
   ],
   "source": [
    "# What color is the first fish?\n",
    "fish1.get_color()"
   ]
  },
  {
   "cell_type": "code",
   "execution_count": 5,
   "metadata": {},
   "outputs": [
    {
     "name": "stdout",
     "output_type": "stream",
     "text": [
      "Has a car: True\n"
     ]
    }
   ],
   "source": [
    "# Does the second fish have a car?\n",
    "fish2.get_hasCar()"
   ]
  },
  {
   "cell_type": "code",
   "execution_count": 6,
   "metadata": {},
   "outputs": [
    {
     "name": "stdout",
     "output_type": "stream",
     "text": [
      "Has a star: True\n"
     ]
    }
   ],
   "source": [
    "# Does the third fish have a star?\n",
    "fish3.get_has_star()"
   ]
  },
  {
   "cell_type": "code",
   "execution_count": 7,
   "metadata": {},
   "outputs": [
    {
     "name": "stdout",
     "output_type": "stream",
     "text": [
      "Is old: False\n"
     ]
    }
   ],
   "source": [
    "# Is the fourth fish old?\n",
    "fish4.get_is_old()"
   ]
  },
  {
   "cell_type": "code",
   "execution_count": 8,
   "metadata": {},
   "outputs": [
    {
     "name": "stdout",
     "output_type": "stream",
     "text": [
      "Is sad: False\n"
     ]
    }
   ],
   "source": [
    "# Is the fifth fish sad?\n",
    "fish5.get_is_sad()"
   ]
  },
  {
   "cell_type": "code",
   "execution_count": 11,
   "metadata": {},
   "outputs": [
    {
     "name": "stdout",
     "output_type": "stream",
     "text": [
      "Is bad: True\n"
     ]
    }
   ],
   "source": [
    "# Is the sixth fish bad?\n",
    "fish6.get_is_bad()"
   ]
  },
  {
   "cell_type": "code",
   "execution_count": 12,
   "metadata": {},
   "outputs": [
    {
     "name": "stdout",
     "output_type": "stream",
     "text": [
      "The total feet for all fish is: 18\n"
     ]
    }
   ],
   "source": [
    "# How many feet are there among all the fish? \n",
    "sum_of_feet = 0\n",
    "for fish in allFishList:\n",
    "    sum_of_feet += int(fish.num_feet)\n",
    "\n",
    "print(\"The total feet for all fish is:\",sum_of_feet)"
   ]
  },
  {
   "cell_type": "code",
   "execution_count": 15,
   "metadata": {},
   "outputs": [
    {
     "name": "stdout",
     "output_type": "stream",
     "text": [
      "There is no input validation, please only enter a number 1-7 or the program will break\n",
      "What fish number do you want details for? (1-7): 5\n",
      " \n",
      " \n",
      "Name: Fish5/TA Jay\n",
      "Color: Blue\n",
      "Has a car: False\n",
      "Has a star: True\n",
      "Is sad: False\n",
      "Is glad: True\n",
      "Is bad: True\n",
      "Is thin: True\n",
      "Is fat: False\n",
      "Has a hat: False\n",
      "Number of feet: 7\n",
      "Likes to run: False\n",
      "Is slow: False\n",
      "Is fast: True\n",
      "Is old: False\n",
      "Is new: True\n"
     ]
    }
   ],
   "source": [
    "#Create a print details function that takes a fish number input and outputs all details (do this so that you don't \n",
    "#have to make a test case for every attribute as that would be unnesecarily tedious)\n",
    "#This is considered the test case for all additional attributes beyond the ones originally outlined\n",
    "def print_details(fishhh):\n",
    "    fishhh.get_name()\n",
    "    fishhh.get_color()\n",
    "    fishhh.get_hasCar()\n",
    "    fishhh.get_has_star()\n",
    "    fishhh.get_is_sad()\n",
    "    fishhh.get_is_glad()\n",
    "    fishhh.get_is_bad()\n",
    "    fishhh.get_is_thin()\n",
    "    fishhh.get_is_fat()\n",
    "    fishhh.get_has_hat()\n",
    "    fishhh.get_num_feet()\n",
    "    fishhh.get_like_to_run()\n",
    "    fishhh.get_is_slow()\n",
    "    fishhh.get_is_fast()\n",
    "    fishhh.get_is_old()\n",
    "    fishhh.get_is_new()\n",
    "    \n",
    "#test print details function from above\n",
    "\n",
    "#output to user and collect fish number desired\n",
    "print(\"There is no input validation, please only enter a number 1-7 or the program will break\")\n",
    "fish_num=int(input(\"What fish number do you want details for? (1-7): \"))\n",
    "\n",
    "print(\" \")\n",
    "#use fishhh variable to display string version of fish object\n",
    "#print(\"Here are the details for \" + \": \")\n",
    "print(\" \")\n",
    "\n",
    "#use allFishList to maintain object data type when calling function\n",
    "print_details(allFishList[fish_num-1])"
   ]
  },
  {
   "cell_type": "code",
   "execution_count": null,
   "metadata": {},
   "outputs": [],
   "source": []
  },
  {
   "cell_type": "code",
   "execution_count": null,
   "metadata": {},
   "outputs": [],
   "source": []
  }
 ],
 "metadata": {
  "kernelspec": {
   "display_name": "Python 3 (ipykernel)",
   "language": "python",
   "name": "python3"
  },
  "language_info": {
   "codemirror_mode": {
    "name": "ipython",
    "version": 3
   },
   "file_extension": ".py",
   "mimetype": "text/x-python",
   "name": "python",
   "nbconvert_exporter": "python",
   "pygments_lexer": "ipython3",
   "version": "3.9.13"
  }
 },
 "nbformat": 4,
 "nbformat_minor": 2
}
