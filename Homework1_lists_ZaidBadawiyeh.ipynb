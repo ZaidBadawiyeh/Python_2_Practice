{
 "cells": [
  {
   "cell_type": "code",
   "execution_count": 121,
   "metadata": {},
   "outputs": [
    {
     "name": "stdout",
     "output_type": "stream",
     "text": [
      "There are 4 vowels in the list.\n",
      "There are 4 vowels in the list.\n",
      "There are 7 vowels in the list.\n",
      "There are 0 vowels in the list.\n"
     ]
    }
   ],
   "source": [
    "# Problem 1a\n",
    "# create a function that counts the vowels in a list of strings\n",
    "\n",
    "\n",
    "\n",
    "\n",
    "#define the function countVowelsInList, listOfStuff is the string \n",
    "#input list\n",
    "def countVowelsInList(listOfStuff):\n",
    "    #create vowels variable to compare to the characters in the list\n",
    "    vowels = \"aAeEiIoOuU\"\n",
    "    #counter variable is updated each time a character from the list is found \n",
    "    #to match one in the vowels string\n",
    "    counter = 0\n",
    "    #run a for loop to grab the different words within the list\n",
    "    for string in listOfStuff:\n",
    "    #for loop within the for loop of strings in order \n",
    "    #to separate characters of each string\n",
    "        for char in string:\n",
    "            #Conditional statement to test if characters are a vowel\n",
    "            if char in vowels:\n",
    "                #Add to counter if the character matches the \n",
    "                #condition (is a vowel)\n",
    "                counter += 1\n",
    "                \n",
    "    #String concat with answer to produce the correct output to the user\n",
    "    print(\"There are \" + str(counter) + \" vowels in the list.\")\n",
    "\n",
    "            \n",
    "\n",
    "        \n",
    "# 4 test cases to verify the accuracy of the program in counting vowels, \n",
    "# regardless of input\n",
    "        \n",
    "test1 = [\"hello\", \"its\", \"me\"]\n",
    "test2 = [\"this\",\"is\",\"a\",\"test\"]\n",
    "test3 = [\"still\",\"testing\",\"the\",\"output\"]\n",
    "test4 = [\"blrpygrrt\"]\n",
    "\n",
    "countVowelsInList(test1)\n",
    "countVowelsInList(test2)\n",
    "countVowelsInList(test3)\n",
    "countVowelsInList(test4)"
   ]
  },
  {
   "cell_type": "code",
   "execution_count": 120,
   "metadata": {},
   "outputs": [
    {
     "name": "stdout",
     "output_type": "stream",
     "text": [
      "['small', 'eat']\n",
      "['eater', 'dinos']\n",
      "['red', 'black', 'green']\n"
     ]
    }
   ],
   "source": [
    "# Problem 1b\n",
    "# Write a function that copies all words that are five or less letters from a list of strings into a new list,\n",
    "# then print the new list.\n",
    "\n",
    "\n",
    "\n",
    "#define the function copySmallWords, listOfStuff is the input list\n",
    "def copySmallWords(listOfStuff):\n",
    "    \n",
    "#declare an empty list that the small words will be copied to\n",
    "    smallWordList = []\n",
    "    \n",
    "#loop through the list grabbing each indiviual word\n",
    "    for string in listOfStuff:\n",
    "        \n",
    "        #conditional to check if the word is more or less than 5 characters\n",
    "        if(len(string) <=5):\n",
    "            \n",
    "#add word to end of new list if condition is true             \n",
    "            smallWordList.append(string)    \n",
    "\n",
    "#print the list\n",
    "    print(smallWordList)\n",
    "\n",
    "    \n",
    "# 3 test cases to verify the program is correctly seperating\n",
    "#small words into the new list\n",
    "test1 = [\"superior\", \"small\", \"eat\", \"dinosaur\"] \n",
    "test2 = [\"sufficient\", \"fourth\", \"eater\", \"dinos\"] \n",
    "test3 = [\"orange\", \"red\", \"black\", \"green\"] \n",
    "copySmallWords(test1)\n",
    "copySmallWords(test2)\n",
    "copySmallWords(test3)\n"
   ]
  },
  {
   "cell_type": "code",
   "execution_count": 119,
   "metadata": {},
   "outputs": [
    {
     "name": "stdout",
     "output_type": "stream",
     "text": [
      "There are 3 hours, 53 minutes and 33 seconds in 14013 seconds.\n",
      "There are 5 hours, 0 minutes and 56 seconds in 18056 seconds.\n",
      "There are 19 hours, 24 minutes and 37 seconds in 69877 seconds.\n",
      "Number of seconds given must be greater than or equal to 0 and less than or equal to 86400.\n"
     ]
    }
   ],
   "source": [
    "# Problem 2\n",
    "# Given a number of seconds between 0 and 86400 seconds, write a function that reports the equivalent number\n",
    "# of hours, minutes, and seconds.  for example, if the number of seconds is 14013, your function would print\n",
    "# There are 3 hours, 53 minutes, and 33 seconds in 14013 seconds.\n",
    "# If the given number of seconds is less than 0 or greater than 86400, your function should print\n",
    "# Number of seconds given must be greater than or equal to 0 and less than or equal to 86400.\n",
    "# Use the following function header:\n",
    "#define the function so that numSeconds is your input\n",
    "\n",
    "def printNumHoursMinutesSeconds(numSeconds):\n",
    "    \n",
    "    #input validation to ensure the input is within the designated range \n",
    "    if numSeconds > 86400 or numSeconds < 0:\n",
    "        \n",
    "        #if input is outside of range, output the following message\n",
    "        print(\"Number of seconds given must be greater than or equal to 0 and less than or equal to 86400.\") \n",
    "        \n",
    "    #if input is in range\n",
    "    else:\n",
    "        \n",
    "        #hour calculation is seconds divided by 3600,\n",
    "        #int function takes only the whole number (which is what we want)\n",
    "        hour = int(numSeconds/3600)\n",
    "\n",
    "        #minutes is the remainder of the hour calculation, divided by 60. \n",
    "        #Again we use int to retain just the whole number from that calculation\n",
    "        minutes = int((numSeconds%3600)/60)\n",
    "\n",
    "        #seconds is the remainder of the minutes calculation,\n",
    "        #using int to convert to a whole number.\n",
    "        seconds = int((numSeconds%3600%60))\n",
    "\n",
    "\n",
    "        #print the desired output, use str() to convert answers to text so that we can print it\n",
    "        print(\"There are \" + str(hour) + \" hours, \" + str(minutes) + \" minutes and \" + str(seconds) + \" seconds in \" + str(numSeconds) + \" seconds.\")\n",
    "\n",
    "\n",
    "# 4 test cases to verify program is giving the correct output\n",
    "test1 = 14013\n",
    "test2 = 18056\n",
    "test3 = 69877\n",
    "test4 = 999999 \n",
    "printNumHoursMinutesSeconds(test1)\n",
    "printNumHoursMinutesSeconds(test2) \n",
    "printNumHoursMinutesSeconds(test3) \n",
    "printNumHoursMinutesSeconds(test4)"
   ]
  },
  {
   "cell_type": "code",
   "execution_count": 118,
   "metadata": {},
   "outputs": [
    {
     "name": "stdout",
     "output_type": "stream",
     "text": [
      "{'Fuzzstortion': 1, 'Fuzz': 15, 'Glitch Engine': 1, 'Passive Octave Up': 1, 'Phaser': 3, 'Tremolo': 1, 'Digital Delay': 1, 'Sound Retainer': 1, 'Looper': 1, 'Glitch Delay': 1, 'Modulated Monophonic Harmonizing PLL': 1, 'PLL': 2}\n"
     ]
    }
   ],
   "source": [
    "# Problem 3\n",
    "# Given a csv file named where the columns are \n",
    "# Pedal Name, Pedal Type, Manufacturer\n",
    "# write a function that creates a dictionary where the key is pedal type and the value is the number\n",
    "# of those pedals in the csv file. This function should print the dictionary after reading the contents\n",
    "# of the entire file.  \n",
    "  \n",
    "import csv\n",
    "\n",
    "def countPedalTypes(fileName):\n",
    "    my_dictionary = {}\n",
    "    \n",
    "    #opens a file, given a file name through the function, for reading. pedalsCSV act as the file handle and stores it\n",
    "    #im not sure how the 'with' works exactly, i took it from class 1-2 notes, and upon research discovered it keeps the \n",
    "    #file open during the duration of the operation; however, i'm still not entirely certain how the inclusion has affected my results \n",
    "    with open(fileName,\"r\") as pedalsCSV:\n",
    "        \n",
    "        #creates a csv.reader object stored under 'csvReader', uses the file handle opened above, \n",
    "        #and appoints the comma delimeter wherby the data is split\n",
    "        csvReader = csv.reader(pedalsCSV,delimiter=\",\")\n",
    "        \n",
    "        #skips the first row of data so as not to include it in the following operations (first row is only headers/labels)\n",
    "        next(csvReader)\n",
    "        \n",
    "        #for loop runs through the document row by row\n",
    "        for row in csvReader:\n",
    "            \n",
    "            #declare pedal-type variable that stores only the second row of data (the petal type field)\n",
    "            pedal_type = row[1]\n",
    "            \n",
    "            #Conditional checks the pedal-type field to see if each row is present in the dictionary or not\n",
    "            if pedal_type in my_dictionary:\n",
    "                \n",
    "                #  += 1 increments the count of a pedal type in the dictionary for each repitition, \n",
    "                #  assuming it is already present in the dictionary\n",
    "                my_dictionary[pedal_type] += 1\n",
    "            else:\n",
    "                \n",
    "                #if the entry is not present in the dictionary, add it with an associated value of 1\n",
    "                my_dictionary[pedal_type] = 1\n",
    "    \n",
    "    print(my_dictionary)\n",
    "\n",
    "countPedalTypes(\"pedals.csv\")\n"
   ]
  },
  {
   "cell_type": "code",
   "execution_count": null,
   "metadata": {},
   "outputs": [],
   "source": []
  },
  {
   "cell_type": "code",
   "execution_count": null,
   "metadata": {},
   "outputs": [],
   "source": []
  },
  {
   "cell_type": "code",
   "execution_count": null,
   "metadata": {},
   "outputs": [],
   "source": []
  }
 ],
 "metadata": {
  "kernelspec": {
   "display_name": "Python 3 (ipykernel)",
   "language": "python",
   "name": "python3"
  },
  "language_info": {
   "codemirror_mode": {
    "name": "ipython",
    "version": 3
   },
   "file_extension": ".py",
   "mimetype": "text/x-python",
   "name": "python",
   "nbconvert_exporter": "python",
   "pygments_lexer": "ipython3",
   "version": "3.9.13"
  },
  "vscode": {
   "interpreter": {
    "hash": "31f2aee4e71d21fbe5cf8b01ff0e069b9275f58929596ceb00d14d90e3e16cd6"
   }
  }
 },
 "nbformat": 4,
 "nbformat_minor": 2
}
