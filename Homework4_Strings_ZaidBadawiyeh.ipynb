{
 "cells": [
  {
   "cell_type": "code",
   "execution_count": 1,
   "metadata": {},
   "outputs": [
    {
     "name": "stdout",
     "output_type": "stream",
     "text": [
      "3.1415926535897931159979635\n",
      "9.81e+00\n",
      "6.67408e-11\n"
     ]
    }
   ],
   "source": [
    "# Problem 1: formatting\n",
    "\n",
    "# format pi to 25 decimal places\n",
    "import math\n",
    "\n",
    "#import pi number from the math module\n",
    "pi = math.pi\n",
    "#format string to display pi with a precision of 25 decimal places(f indicates float data type)\n",
    "print(\"{:.25f}\".format(pi))\n",
    "\n",
    "\n",
    "# standard gravity on earth is 9.80665 m/s^2\n",
    "standardGrav = 9.80665\n",
    "\n",
    "\n",
    "# print standard gravity using scientific notation and 2 decimal places\n",
    "# formats the standard gravity constant to be two decimals (e indicates scientific notatiion)\n",
    "print(\"{:.2e}\".format(standardGrav))\n",
    "\n",
    "\n",
    "\n",
    "# the gravitational constant G is .0000000000667408\n",
    "# print it using scientific notation and 5 decimal places\n",
    "# formats the standard gravity constant to be 5 decimals (e indicates scientific notatiion)\n",
    "G = .0000000000667408\n",
    "print(\"{:.5e}\".format(G))"
   ]
  },
  {
   "cell_type": "code",
   "execution_count": 2,
   "metadata": {},
   "outputs": [
    {
     "name": "stdout",
     "output_type": "stream",
     "text": [
      "0\n",
      "1\n",
      "10\n",
      "11\n",
      "100\n",
      "101\n",
      "110\n",
      "111\n",
      "1000\n",
      "1001\n",
      "1010\n",
      "1011\n",
      "1100\n",
      "1101\n",
      "1110\n",
      "1111\n",
      "10000\n",
      "10001\n",
      "10010\n",
      "10011\n",
      "10100\n",
      "10101\n",
      "10110\n",
      "10111\n",
      "11000\n",
      "11001\n",
      "11010\n",
      "11011\n",
      "11100\n",
      "11101\n",
      "11110\n",
      "11111\n",
      "100000\n"
     ]
    }
   ],
   "source": [
    "# print the integers 0 through 32, one number on each line, in binary\n",
    "\n",
    "#Create for loop to loop through numbers 0-32\n",
    "for i in range(33):\n",
    "    \n",
    "    #slicing notation, b indicates binary data type, 0 grabs the starting index within the .format function. \n",
    "    #(we only have one argument in the .format function, 'i', so we use index 0) Ending index discluded so that \n",
    "    #we count up until 32 (end of for loop).\n",
    "    print(\"{0:b}\".format(i))"
   ]
  },
  {
   "cell_type": "code",
   "execution_count": 3,
   "metadata": {},
   "outputs": [],
   "source": [
    "# Problem 2: Scrabble\n",
    "\n",
    "# use the .format function for all printing requirements.\n",
    "# when printing your answers, print them as sentences\n",
    "# e.g., \"There are 1405 words in the file.\"\n",
    "\n",
    "# if you are instructed to use a regular expression, \n",
    "# explain what each symbol means in the regular expression\n",
    "# e.g., \"\\w* means to match one or more alphabetical characters\"\n",
    "# if you do not include this information, you will not get credit for the problem\n",
    "\n",
    "import requests\n",
    "import re\n",
    "\n",
    "sowpods = requests.get(\"http://norvig.com/ngrams/sowpods.txt\").text"
   ]
  },
  {
   "cell_type": "code",
   "execution_count": 4,
   "metadata": {},
   "outputs": [
    {
     "name": "stdout",
     "output_type": "stream",
     "text": [
      "There are 267751 words in the sowpods text file.\n"
     ]
    }
   ],
   "source": [
    "# How many words are in the sowpods text file?\n",
    "# remember, your answer should be in the form of a sentence and use the .format string method\n",
    "# e.g., \"There are ### words in the sowpods text file.\"\n",
    "\n",
    "\n",
    "# Split the text into words using whitespace as the delimiter\n",
    "words = sowpods.split()\n",
    "\n",
    "# Count the number of words using len\n",
    "count = len(words)\n",
    "\n",
    "# Print the result ('{}' is used as a placeholder for the results of the .format function.\n",
    "#This is an alternative to string concatenation using the format function\n",
    "print(\"There are {} words in the sowpods text file.\".format(count))\n"
   ]
  },
  {
   "cell_type": "code",
   "execution_count": 5,
   "metadata": {},
   "outputs": [
    {
     "name": "stdout",
     "output_type": "stream",
     "text": [
      "The word at index 2022 is ACTINOMERE \n",
      "The word at index 2023 is ACTINOMERES \n"
     ]
    }
   ],
   "source": [
    "# what word is at the list index corresponding with the current year?\n",
    "# use the current year as the index to get the answer\n",
    "\n",
    "#Use split function with a whitespace delimeter to find all individual words\n",
    "words = sowpods.split()\n",
    "\n",
    "# Grab and store the words at this years index for use in the .format function below\n",
    "singleWord1 = words[2022]\n",
    "singleWord2 = words[2023]\n",
    "\n",
    "# Print the result. '{}' is used as a placeholder for the results of the .format function.\n",
    "#This is an alternative to string concatenation using the format function\n",
    "print(\"The word at index 2022 is {} \".format(singleWord1))\n",
    "print(\"The word at index 2023 is {} \".format(singleWord2))\n"
   ]
  },
  {
   "cell_type": "code",
   "execution_count": 6,
   "metadata": {},
   "outputs": [
    {
     "name": "stdout",
     "output_type": "stream",
     "text": [
      "The longest word in sowpods is ABIOGENETICALLY and it has 15 letters.\n"
     ]
    }
   ],
   "source": [
    "# what is the longest word in sowpods, and how many letters does it have?\n",
    "\n",
    "\n",
    "\n",
    "#Split the text using whitespace as the delimiter \n",
    "words = sowpods.split()\n",
    "\n",
    "# Find the longest word using a loop and temp variable initialized to one blank white space\n",
    "temp = \"\"\n",
    "\n",
    "#loop through individual words\n",
    "for word in words:\n",
    "    \n",
    "    #check if length of new word is greater than length of word currently stored in temp\n",
    "    if len(word) > len(temp):\n",
    "        \n",
    "        #if it is overwrite and save the word\n",
    "        temp = word\n",
    "\n",
    "# Print the result (use placeholders from the format function to call different variables into the output line)\n",
    "print(\"The longest word in sowpods is {} and it has {} letters.\".format(temp, len(temp)))\n"
   ]
  },
  {
   "cell_type": "code",
   "execution_count": 7,
   "metadata": {},
   "outputs": [],
   "source": [
    "# here are the point values for each letter\n",
    "letterValues = {'a':1,'b':3,'c':3,'d':2,'e':1,'f':4,'g':2,'h':4,'i':1,'j':8,'k':5,'l':1,'m':3,\n",
    "                 'n':1,'o':1,'p':3,'q':10,'r':1,'s':1,'t':1,'u':1,'v':4,'w':4,'x':8,'y':4,'z':10}"
   ]
  },
  {
   "cell_type": "code",
   "execution_count": 8,
   "metadata": {},
   "outputs": [
    {
     "name": "stdout",
     "output_type": "stream",
     "text": [
      "The highest scoring word that starts with the letter Z is ZYZZYVAS. It is worth 44 points.\n"
     ]
    }
   ],
   "source": [
    "# which word that starts with the letter Z has the most points?\n",
    "\n",
    "\n",
    "# Split the text into words using whitespace as the delimiter \n",
    "#(im fairly certain that words already has this information stored but it doesn't hurt to do it again)\n",
    "words = sowpods.split()\n",
    "\n",
    "# Initialize variables to keep track of the word with the highest point value\n",
    "highest_score = 0\n",
    "highest_score_word = \"\"\n",
    "\n",
    "\n",
    "# Loop through all the words in the list\n",
    "for word in words:\n",
    "    \n",
    "    # Conditional to check if the word starts with \"Z\"\n",
    "    if word[0] == \"Z\" or word[0] == \"z\":\n",
    "        \n",
    "        #reset the score temp variable to zero if word matches\n",
    "        score = 0\n",
    "        \n",
    "        #loop throught the letters within the word\n",
    "        for letter in word:\n",
    "            \n",
    "            # Check if the letter is a valid key in letterValues\n",
    "            if letter.lower() in letterValues:\n",
    "                \n",
    "                # Add the score for this letter to the total score for this word\n",
    "                score += letterValues[letter.lower()]\n",
    "                \n",
    "        # Check if this word has a higher score than the current highest score and overwrite final variables if true\n",
    "        if score > highest_score:\n",
    "            highest_score = score\n",
    "            highest_score_word = word\n",
    "\n",
    "# Print the word with the highest score using .format placeholders     \n",
    "print(\"The highest scoring word that starts with the letter Z is {}. It is worth {} points.\".format(highest_score_word,highest_score))\n"
   ]
  },
  {
   "cell_type": "code",
   "execution_count": 78,
   "metadata": {},
   "outputs": [
    {
     "name": "stdout",
     "output_type": "stream",
     "text": [
      "178\n"
     ]
    }
   ],
   "source": [
    "# how many words start with Q and end with a vowel?\n",
    "# use a regular expression to find the answer\n",
    "# our pattern starts with a Q and ends with any vowel\n",
    "# to get any vowel we use square brackets \n",
    "\n",
    "\n",
    "\n",
    "#Regular expression formula using findall. Pattern on the left, search string on the right. Finds all matches\n",
    "#That start with Q and end with [AEIOU]\n",
    "\n",
    "#'r' is used to indicate a raw string, this is useful so that python doesn't consider '/' a special character\n",
    "#'\\b' indicates a boundary, setting q as the start and the vowels at the end of the word\n",
    "#'\\w' indicates one or more alphabetical character between the starting Q and ending vowel\n",
    "match = re.findall(r\"\\bQ\\w*[AEIOU]\\b\",sowpods)\n",
    "    \n",
    "#print the count of matches\n",
    "print(len(match))\n"
   ]
  },
  {
   "cell_type": "code",
   "execution_count": 10,
   "metadata": {},
   "outputs": [
    {
     "name": "stdout",
     "output_type": "stream",
     "text": [
      "84\n"
     ]
    }
   ],
   "source": [
    "# how many words have a q not followed by u?\n",
    "# use a regular expression to find the answer\n",
    "\n",
    "\n",
    "#'r' is used to indicate a raw string, this is useful so that python doesn't consider '/' a special character\n",
    "#'\\w*' indicates a character before and in particular shows that 'Q' can be anywhere in the string\n",
    "#'Q' the literal string we are searching for\n",
    "#'(?!U)' Essentially the not(!) operator being placed on the letter U directly after Q\n",
    "#'\\w*' Used again to indicate and pull the characters after either Q or U\n",
    "matchess = re.findall(r\"\\w*Q(?!U)\\w*\", sowpods)\n",
    "\n",
    "#use len to get the number of matches\n",
    "print(len(matchess))"
   ]
  },
  {
   "cell_type": "code",
   "execution_count": 11,
   "metadata": {},
   "outputs": [
    {
     "name": "stdout",
     "output_type": "stream",
     "text": [
      "['BUQSHA', 'BUQSHAS', 'BURQA', 'BURQAS', 'FAQIR', 'FAQIRS', 'INQILAB', 'INQILABS', 'MBAQANGA', 'MBAQANGAS', 'MUQADDAM', 'MUQADDAMS', 'NIQAB', 'NIQABS', 'QABALA', 'QABALAH', 'QABALAHS', 'QABALAS', 'QABALISM', 'QABALISMS', 'QABALIST', 'QABALISTIC', 'QABALISTS', 'QADI', 'QADIS', 'QAID', 'QAIDS', 'QAIMAQAM', 'QAIMAQAMS', 'QALAMDAN', 'QALAMDANS', 'QANAT', 'QANATS', 'QASIDA', 'QASIDAS', 'QAT', 'QATS', 'QAWWAL', 'QAWWALI', 'QAWWALIS', 'QAWWALS', 'QI', 'QIBLA', 'QIBLAS', 'QIGONG', 'QIGONGS', 'QINDAR', 'QINDARKA', 'QINDARS', 'QINGHAOSU', 'QINGHAOSUS', 'QINTAR', 'QINTARS', 'QIS', 'QIVIUT', 'QIVIUTS', 'QOPH', 'QOPHS', 'QORMA', 'QORMAS', 'QWERTIES', 'QWERTY', 'QWERTYS', 'SHEQALIM', 'SHEQEL', 'SHEQELS', 'SUQ', 'SUQS', 'TALAQ', 'TALAQS', 'TRANQ', 'TRANQS', 'TSADDIQ', 'TSADDIQIM', 'TSADDIQS', 'TZADDIQ', 'TZADDIQIM', 'TZADDIQS', 'UMIAQ', 'UMIAQS', 'WAQF', 'WAQFS', 'YAQONA', 'YAQONAS']\n"
     ]
    }
   ],
   "source": [
    "# what are the words that have a q not followed by a u?\n",
    "\n",
    "#'r' is used to indicate a raw string, this is useful so that python doesn't consider '/' a special character\n",
    "#'\\w*' indicates a character before and in particular shows that 'Q' can be anywhere in the string\n",
    "#'Q' the literal string we are searching for\n",
    "#'(?!U)' Essentially the not(!) operator being placed on the letter U directly after Q\n",
    "#'\\w*' Used again to indicate and pull the characters after either Q or U\n",
    "matchess = re.findall(r\"\\w*Q(?!U)\\w*\", sowpods)\n",
    "\n",
    "#same as above with no len argument, just print to output\n",
    "print(matchess)"
   ]
  },
  {
   "cell_type": "code",
   "execution_count": 12,
   "metadata": {},
   "outputs": [
    {
     "name": "stdout",
     "output_type": "stream",
     "text": [
      "There a 7782 words that start and end with a vowel.\n"
     ]
    }
   ],
   "source": [
    "# how many words start with a vowel and end with a vowel?\n",
    "# use a regular expression to find the answer\n",
    "\n",
    "#'r' is used to indicate a raw string, this is useful so that python doesn't consider '/' a special character\n",
    "#'\\b' indicates a boundary, setting the vowles as the start and the vowels at the end of the word\n",
    "#'\\w*' indicates zero or more characters between the starting and ending vowles\n",
    "match = re.findall(r\"\\b[AEIOU]\\w*[AEIOU]\\b\",sowpods)\n",
    "length=len(match)\n",
    "\n",
    "#use .format to print to output\n",
    "print(\"There a {} words that start and end with a vowel.\".format(length))"
   ]
  },
  {
   "cell_type": "code",
   "execution_count": 13,
   "metadata": {},
   "outputs": [
    {
     "name": "stdout",
     "output_type": "stream",
     "text": [
      "The longest word that starts with a vowel and ends with a vowel is ACKNOWLEDGEABLE. It has 15 letters.\n"
     ]
    }
   ],
   "source": [
    "# what's the longest word that starts with a vowel and ends with a vowel?\n",
    "\n",
    "\n",
    "\n",
    "#'r' is used to indicate a raw string, this is useful so that python doesn't consider '/' a special character\n",
    "#'\\b' indicates a boundary, setting the vowles as the start and the vowels at the end of the word\n",
    "#'\\w*' indicates zero or more characters between the starting and ending vowles\n",
    "match = re.findall(r\"\\b[AEIOU]\\w*[AEIOU]\\b\",sowpods)\n",
    "\n",
    "#initialize temp variables to store longest word and its length\n",
    "highest=0\n",
    "word=\"\"\n",
    "\n",
    "#for loop through individual words that match your regex search\n",
    "for word in match:\n",
    "    \n",
    "    #determine length of individual word and store it\n",
    "    length=len(word)\n",
    "    \n",
    "    #if length is greater than what was previously stored in highest, overwrite highest variable and store \n",
    "    #the literal word as well\n",
    "    # not '>=' so that if they're the same length it doesnt overwrite\n",
    "    if length > highest:\n",
    "        highest = length\n",
    "        match = word\n",
    "\n",
    "        \n",
    "#use .format to print out output\n",
    "print(\"The longest word that starts with a vowel and ends with a vowel is {}. It has {} letters.\".format(match, highest))\n",
    "\n",
    "\n"
   ]
  },
  {
   "cell_type": "code",
   "execution_count": 14,
   "metadata": {},
   "outputs": [
    {
     "name": "stdout",
     "output_type": "stream",
     "text": [
      "['XEROX']\n"
     ]
    }
   ],
   "source": [
    "# what words start with an X and end with an X?\n",
    "\n",
    "#'r' is used to indicate a raw string, this is useful so that python doesn't consider '/' a special character\n",
    "#'\\b' indicates a boundary, setting the 'X' as the start and end of the word\n",
    "#'\\w*' indicates zero or more characters between the starting and ending 'X'\n",
    "match = re.findall(r\"\\bX\\w*X\\b\",sowpods)\n",
    "\n",
    "print(match)"
   ]
  },
  {
   "cell_type": "code",
   "execution_count": 15,
   "metadata": {},
   "outputs": [
    {
     "name": "stdout",
     "output_type": "stream",
     "text": [
      "['ZIZ', 'ZIZZ', 'ZUZ', 'ZZZ']\n"
     ]
    }
   ],
   "source": [
    "# what words start with an Z and end with an Z?\n",
    "\n",
    "#'r' is used to indicate a raw string, this is useful so that python doesn't consider '/' a special character\n",
    "#'\\b' indicates a boundary, setting the 'Z' as the start and end of the word\n",
    "#'\\w*' indicates zero or more characters between the starting and ending 'Z'\n",
    "match = re.findall(r\"\\bZ\\w*Z\\b\",sowpods)\n",
    "\n",
    "print(match)"
   ]
  },
  {
   "cell_type": "code",
   "execution_count": 16,
   "metadata": {},
   "outputs": [
    {
     "name": "stdout",
     "output_type": "stream",
     "text": [
      "['ABUZZ', 'ADZ', 'ALFEREZ', 'ASSEZ']\n"
     ]
    }
   ],
   "source": [
    "# words that start with an A and ends with a Z?\n",
    "\n",
    "#'r' is used to indicate a raw string, this is useful so that python doesn't consider '/' a special character\n",
    "#'\\b' indicates a boundary, setting the 'A' as the start and the 'Z' as the end of the word\n",
    "#'\\w*' indicates zero or more characters between the starting 'A' and ending 'Z'\n",
    "match = re.findall(r\"\\bA\\w*Z\\b\",sowpods)\n",
    "\n",
    "print(match)"
   ]
  },
  {
   "cell_type": "code",
   "execution_count": 17,
   "metadata": {},
   "outputs": [
    {
     "name": "stdout",
     "output_type": "stream",
     "text": [
      "111\n"
     ]
    }
   ],
   "source": [
    "# how many words have the word \"CODE\" in them?\n",
    "\n",
    "#'r' is used to indicate a raw string, this is useful so that python doesn't consider '/' a special character\n",
    "#'\\w*' is used to grab zero or more characters from in front of \"code\" and zero or more characters after \"code\" \n",
    "#(so that it searches for \"code\" anywhere in th string)\n",
    "match = re.findall(r\"\\w*CODE\\w*\",sowpods)\n",
    "\n",
    "#print the length of the word\n",
    "print(len(match))"
   ]
  },
  {
   "cell_type": "code",
   "execution_count": 18,
   "metadata": {},
   "outputs": [
    {
     "name": "stdout",
     "output_type": "stream",
     "text": [
      "['PYTHON', 'PYTHONESS', 'PYTHONESSES', 'PYTHONIC', 'PYTHONOMORPH', 'PYTHONOMORPHS', 'PYTHONS']\n"
     ]
    }
   ],
   "source": [
    "# which words have the word \"PYTHON\" in them?\"\n",
    "\n",
    "#'r' is used to indicate a raw string, this is useful so that python doesn't consider '/' a special character\n",
    "#'\\w*' is used to grab zero or more characters from in front of \"PYTHON\" and zero or more characters after \"PYTHON\" \n",
    "#(so that it searches for \"PYTHON\" anywhere in th string)\n",
    "match = re.findall(r\"\\w*PYTHON\\w*\",sowpods)\n",
    "\n",
    "#print the length of the word\n",
    "print(match)"
   ]
  },
  {
   "cell_type": "code",
   "execution_count": 19,
   "metadata": {},
   "outputs": [],
   "source": [
    "# problem 3: beatles lyrics\n",
    "# using the beatles lyrics file (allbeatleslyrics.txt), do the following"
   ]
  },
  {
   "cell_type": "code",
   "execution_count": 34,
   "metadata": {},
   "outputs": [],
   "source": [
    "# open file and store all text in a variable\n",
    "\n",
    "#open the file for reading, use utf8 encoding to maintain special characters, assign it variable 'beatles'\n",
    "with open(\"allbeatleslyrics.txt\", \"r\", encoding=\"utf8\") as beatleslyrics:\n",
    "    beatles = beatleslyrics.read()\n",
    "\n",
    "# Split the text into words using whitespace as the delimiter\n",
    "#words = beatles.split()\n",
    "\n",
    "# Count the number of words using len\n",
    "#count = len(words)\n",
    "#print(count)"
   ]
  },
  {
   "cell_type": "code",
   "execution_count": 35,
   "metadata": {},
   "outputs": [],
   "source": [
    "# if you look at the file contents, you might notice several \\xa0 characters which is a non-breaking space.  \n",
    "# demonstrate how you would change these non-breaking spaces to normal spaces.\n",
    "# note: if you don't see these non-breaking space characters, that's okay, but you'll still need to write the\n",
    "# code to accomplish this task.\n",
    "\n",
    "\n",
    "# Replace non-breaking spaces with normal spaces using the .replace() function\n",
    "beatles = beatles.replace(\"\\xa0\", \" \")"
   ]
  },
  {
   "cell_type": "code",
   "execution_count": 41,
   "metadata": {},
   "outputs": [
    {
     "name": "stdout",
     "output_type": "stream",
     "text": [
      "The word love is used 688 times in these lyrics\n"
     ]
    }
   ],
   "source": [
    "# how many times is the word \"love\" or \"Love\" used in the lyrics?\n",
    "# use a regular expression\n",
    "# (lovely, lover, loves, et cetera all count)\n",
    "\n",
    "#'r' is used to indicate a raw string, this is useful so that python doesn't consider '/' a special character\n",
    "#'\\w*' zero or more alphabetical characters, on either end of the string 'love' instructing regex to find it anywhere\n",
    "#'[Ll]' Looks for either 'L' or 'l'\n",
    "match = re.findall(r\"\\w*[Ll]ove\\w*\",beatles)\n",
    "\n",
    "#store the length of the file (count of 'love')\n",
    "length = len(match)\n",
    "\n",
    "#Use .format to print the count of the string 'love' in the lyrics\n",
    "print(\"The word love is used {} times in these lyrics\".format(length))"
   ]
  },
  {
   "cell_type": "code",
   "execution_count": 77,
   "metadata": {},
   "outputs": [
    {
     "name": "stdout",
     "output_type": "stream",
     "text": [
      "46\n"
     ]
    }
   ],
   "source": [
    "# using regular expressions, how many phrases are there that start with the word \"love\"\n",
    "# or \"Love\"? Consider a phrase to be two or more words that ends with any punctuation mark \n",
    "# but does not include the punctuation.\n",
    "\n",
    "\n",
    "#This is not right, i'm having trouble with this question\n",
    "match = re.findall(r\"\\b[Ll]ove\\s\\w*[.?!]\", beatles)\n",
    "\n",
    "\n",
    "\n",
    "# what is the longest phrase (i.e., the one with the most words) \n",
    "# containing the word love and how many words are in it?\n",
    "\n",
    "\n",
    "\n",
    "print(len(match))"
   ]
  },
  {
   "cell_type": "code",
   "execution_count": 24,
   "metadata": {},
   "outputs": [],
   "source": [
    "# hint for the above: it might help to start with this: how do we match any two words?\n",
    "\n",
    "# once you work that out, how do you match two or more words?  now how do match two or\n",
    "# more words when the first word is 'love'?"
   ]
  },
  {
   "cell_type": "code",
   "execution_count": 25,
   "metadata": {},
   "outputs": [],
   "source": [
    "# What are the phrases (use the same definition as above) that start with the word beep?\n",
    "# use a regular expression\n",
    "\n",
    "#can't figure out the two words phrase thing so this question and the one above are unanswered\n"
   ]
  },
  {
   "cell_type": "code",
   "execution_count": 76,
   "metadata": {},
   "outputs": [
    {
     "name": "stdout",
     "output_type": "stream",
     "text": [
      "The reciever of love from the beatles is almost the same between 'Me' and 'I' vs 'You'\n",
      "The beatles lyrics write 'Love' followed by 'you' 114 times and Love followed by 'Me' or 'I' 109 times\n",
      "Some would say this makes the beatles self centered\n",
      "---------------------------------------------------------------------------------------------\n",
      "Search a word to find out how common it is in beatles lyrics\n",
      "What word would you like to search for? yellow\n",
      "The word 'yellow' appears 18 times in the beatles lyrics\n"
     ]
    }
   ],
   "source": [
    "# can you come up with a regular expression pattern to find \n",
    "# something relevant/interesting in the Beatles lyrics file?\n",
    "\n",
    "\n",
    "#'r' is used to indicate a raw string, this is useful so that python doesn't consider '/' a special character\n",
    "#'\\w*' zero or more alphabetical characters after 'love you'\n",
    "#'\\s' indicates space between love and you\n",
    "#'\\b' indicates a boundary (should start with love)\n",
    "#'[]' indicates either or\n",
    "youMatch = re.findall(r\"\\b[Ll]ove\\s[Yy]ou\\w*\", beatles)\n",
    "meMatch = re.findall(r\"\\b[Ll]ove\\s[Mm]e\\w*\", beatles)\n",
    "iMatch = re.findall(r\"\\b[Ll]ove\\s[Ii]\\w*\", beatles)\n",
    "\n",
    "#save the count of 'Love you'\n",
    "lengthYou = len(youMatch)\n",
    "\n",
    "#save and sum the count of 'Love' me and 'Love I'\n",
    "lengthOthers = len(meMatch) + len(iMatch)\n",
    "\n",
    "\n",
    "#.format with paceholder to print desired output\n",
    "print(\"The reciever of love from the beatles is almost the same between 'Me' and 'I' vs 'You'\")\n",
    "print(\"The beatles lyrics write 'Love' followed by 'you' {} times and Love followed by 'Me' or 'I' {} times\".format(lengthYou,lengthOthers))\n",
    "print(\"Some would say this makes the beatles self centered\")\n",
    "print(\"---------------------------------------------------------------------------------------------\")\n",
    "\n",
    "\n",
    "\n",
    "#make interactive components where user can search for the occurances of any word\n",
    "print(\"Search a word to find out how common it is in beatles lyrics\")\n",
    "\n",
    "#take input word\n",
    "word = input(\"What word would you like to search for? \")\n",
    "\n",
    "#concatenate the user inputted word too the regex pattern searching for strings that start with the word\n",
    "#'r' is used to indicate a raw string, this is useful so that python doesn't consider '/' a special character\n",
    "#'\\b' indicates a boundary (should start with word)\n",
    "#'\\w*' pull zero or more alphabetical characters after the user inputted word\n",
    "match = re.findall(r\"\\b\" + word + \"\\w*\", beatles)\n",
    "\n",
    "#store count\n",
    "length = len(match)\n",
    "\n",
    "#print the word and count in output message\n",
    "print(\"The word '{}' appears {} times in the beatles lyrics\".format(word,length))\n",
    "                                                                                                                    "
   ]
  },
  {
   "cell_type": "code",
   "execution_count": null,
   "metadata": {},
   "outputs": [],
   "source": []
  }
 ],
 "metadata": {
  "kernelspec": {
   "display_name": "Python 3 (ipykernel)",
   "language": "python",
   "name": "python3"
  },
  "language_info": {
   "codemirror_mode": {
    "name": "ipython",
    "version": 3
   },
   "file_extension": ".py",
   "mimetype": "text/x-python",
   "name": "python",
   "nbconvert_exporter": "python",
   "pygments_lexer": "ipython3",
   "version": "3.9.13"
  }
 },
 "nbformat": 4,
 "nbformat_minor": 2
}
